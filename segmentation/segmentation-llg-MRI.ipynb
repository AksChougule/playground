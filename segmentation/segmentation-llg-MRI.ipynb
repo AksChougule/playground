{
 "cells": [
  {
   "cell_type": "markdown",
   "metadata": {
    "colab_type": "text",
    "id": "Aheib7anciRs"
   },
   "source": [
    "# Image Segmentation"
   ]
  },
  {
   "cell_type": "code",
   "execution_count": 0,
   "metadata": {
    "colab": {},
    "colab_type": "code",
    "id": "Oce0Ntw0cYRy"
   },
   "outputs": [],
   "source": [
    "#Run once per session\n",
    "import os\n",
    "!pip install -q feather-format kornia pyarrow wandb nbdev fastprogress fastai2 fastcore --upgrade \n",
    "!pip install torch==1.3.1\n",
    "!pip install torchvision==0.4.2\n",
    "!pip install Pillow==6.2.1 --upgrade\n",
    "os._exit(00)"
   ]
  },
  {
   "cell_type": "markdown",
   "metadata": {
    "colab_type": "text",
    "id": "1g464K6cduPl"
   },
   "source": [
    "# Libraries"
   ]
  },
  {
   "cell_type": "code",
   "execution_count": 1,
   "metadata": {
    "colab": {},
    "colab_type": "code",
    "id": "UZ06dPpzcnXp"
   },
   "outputs": [],
   "source": [
    "from fastai2.basics import *\n",
    "from fastai2.vision.all import *\n",
    "from fastai2.callback.all import *"
   ]
  },
  {
   "cell_type": "markdown",
   "metadata": {
    "colab_type": "text",
    "id": "maw2GaM6dzrY"
   },
   "source": [
    "# Dataset\n",
    "\n",
    "We will be using `llg-MRI-segmentation` dataset. This dataset contains brain MR images together with manual FLAIR abnormality segmentation masks.\n",
    "\n",
    "The images were obtained from The Cancer Imaging Archive (TCIA).\n",
    "\n",
    "They correspond to 110 patients included in The Cancer Genome Atlas (TCGA) lower-grade glioma collection with at least fluid-attenuated inversion recovery (FLAIR) sequence and genomic cluster data available.\n",
    "Tumor genomic clusters and patient data is provided in data.csv file."
   ]
  },
  {
   "cell_type": "code",
   "execution_count": 2,
   "metadata": {},
   "outputs": [],
   "source": [
    "from zipfile import ZipFile"
   ]
  },
  {
   "cell_type": "code",
   "execution_count": 3,
   "metadata": {},
   "outputs": [],
   "source": [
    "url = \"/home/ubuntu/datasets/brain-MRI-segmentation/lgg-mri-segmentation.zip\"\n",
    "\n",
    "def zip_extract(fname, dest):\n",
    "    zipfile.ZipFile(fname, mode='r').extractall(dest)\n",
    "\n",
    "path = untar_data(url, extract_func=zip_extract, dest=\"/home/ubuntu/datasets/brain-MRI-segmentation/\")"
   ]
  },
  {
   "cell_type": "code",
   "execution_count": 4,
   "metadata": {
    "colab": {
     "base_uri": "https://localhost:8080/",
     "height": 17
    },
    "colab_type": "code",
    "id": "GsxZVgNNdyjF",
    "outputId": "71e034fb-3916-4ba4-9fbc-98ab7afb468f"
   },
   "outputs": [
    {
     "data": {
      "text/plain": [
       "Path('/home/ubuntu/datasets/brain-MRI-segmentation/lgg-mri-segmentation')"
      ]
     },
     "execution_count": 4,
     "metadata": {},
     "output_type": "execute_result"
    }
   ],
   "source": [
    "#path = untar_data(\"/home/ubuntu/datasets/brain-MRI-segmentation/lgg-mri-segmentation.zip\", dest=\"/home/ubuntu/datasets/\")\n",
    "path"
   ]
  },
  {
   "cell_type": "code",
   "execution_count": 5,
   "metadata": {},
   "outputs": [
    {
     "name": "stdout",
     "output_type": "stream",
     "text": [
      "total 4\r\n",
      "drwxr-xr-x 112 ubuntu ubuntu 4096 Feb 25 09:28 kaggle_3m\r\n"
     ]
    }
   ],
   "source": [
    "!ls -l $path"
   ]
  },
  {
   "cell_type": "code",
   "execution_count": 6,
   "metadata": {},
   "outputs": [
    {
     "name": "stdout",
     "output_type": "stream",
     "text": [
      "data.csv\t       TCGA_DU_7018_19911220  TCGA_FG_A4MU_20030903\r\n",
      "README.md\t       TCGA_DU_7019_19940908  TCGA_FG_A60K_20040224\r\n",
      "TCGA_CS_4941_19960909  TCGA_DU_7294_19890104  TCGA_HT_7473_19970826\r\n",
      "TCGA_CS_4942_19970222  TCGA_DU_7298_19910324  TCGA_HT_7475_19970918\r\n",
      "TCGA_CS_4943_20000902  TCGA_DU_7299_19910417  TCGA_HT_7602_19951103\r\n",
      "TCGA_CS_4944_20010208  TCGA_DU_7300_19910814  TCGA_HT_7605_19950916\r\n",
      "TCGA_CS_5393_19990606  TCGA_DU_7301_19911112  TCGA_HT_7608_19940304\r\n",
      "TCGA_CS_5395_19981004  TCGA_DU_7302_19911203  TCGA_HT_7616_19940813\r\n",
      "TCGA_CS_5396_20010302  TCGA_DU_7304_19930325  TCGA_HT_7680_19970202\r\n",
      "TCGA_CS_5397_20010315  TCGA_DU_7306_19930512  TCGA_HT_7684_19950816\r\n",
      "TCGA_CS_6186_20000601  TCGA_DU_7309_19960831  TCGA_HT_7686_19950629\r\n",
      "TCGA_CS_6188_20010812  TCGA_DU_8162_19961029  TCGA_HT_7690_19960312\r\n",
      "TCGA_CS_6290_20000917  TCGA_DU_8163_19961119  TCGA_HT_7692_19960724\r\n",
      "TCGA_CS_6665_20010817  TCGA_DU_8164_19970111  TCGA_HT_7693_19950520\r\n",
      "TCGA_CS_6666_20011109  TCGA_DU_8165_19970205  TCGA_HT_7694_19950404\r\n",
      "TCGA_CS_6667_20011105  TCGA_DU_8166_19970322  TCGA_HT_7855_19951020\r\n",
      "TCGA_CS_6668_20011025  TCGA_DU_8167_19970402  TCGA_HT_7856_19950831\r\n",
      "TCGA_CS_6669_20020102  TCGA_DU_8168_19970503  TCGA_HT_7860_19960513\r\n",
      "TCGA_DU_5849_19950405  TCGA_DU_A5TP_19970614  TCGA_HT_7874_19950902\r\n",
      "TCGA_DU_5851_19950428  TCGA_DU_A5TR_19970726  TCGA_HT_7877_19980917\r\n",
      "TCGA_DU_5852_19950709  TCGA_DU_A5TS_19970726  TCGA_HT_7879_19981009\r\n",
      "TCGA_DU_5853_19950823  TCGA_DU_A5TT_19980318  TCGA_HT_7881_19981015\r\n",
      "TCGA_DU_5854_19951104  TCGA_DU_A5TU_19980312  TCGA_HT_7882_19970125\r\n",
      "TCGA_DU_5855_19951217  TCGA_DU_A5TW_19980228  TCGA_HT_7884_19980913\r\n",
      "TCGA_DU_5871_19941206  TCGA_DU_A5TY_19970709  TCGA_HT_8018_19970411\r\n",
      "TCGA_DU_5872_19950223  TCGA_EZ_7264_20010816  TCGA_HT_8105_19980826\r\n",
      "TCGA_DU_5874_19950510  TCGA_FG_5962_20000626  TCGA_HT_8106_19970727\r\n",
      "TCGA_DU_6399_19830416  TCGA_FG_5964_20010511  TCGA_HT_8107_19980708\r\n",
      "TCGA_DU_6400_19830518  TCGA_FG_6688_20020215  TCGA_HT_8111_19980330\r\n",
      "TCGA_DU_6401_19831001  TCGA_FG_6689_20020326  TCGA_HT_8113_19930809\r\n",
      "TCGA_DU_6404_19850629  TCGA_FG_6690_20020226  TCGA_HT_8114_19981030\r\n",
      "TCGA_DU_6405_19851005  TCGA_FG_6691_20020405  TCGA_HT_8563_19981209\r\n",
      "TCGA_DU_6407_19860514  TCGA_FG_6692_20020606  TCGA_HT_A5RC_19990831\r\n",
      "TCGA_DU_6408_19860521  TCGA_FG_7634_20000128  TCGA_HT_A616_19991226\r\n",
      "TCGA_DU_7008_19830723  TCGA_FG_7637_20000922  TCGA_HT_A61A_20000127\r\n",
      "TCGA_DU_7010_19860307  TCGA_FG_7643_20021104  TCGA_HT_A61B_19991127\r\n",
      "TCGA_DU_7013_19860523  TCGA_FG_8189_20030516\r\n",
      "TCGA_DU_7014_19860618  TCGA_FG_A4MT_20020212\r\n"
     ]
    }
   ],
   "source": [
    "!ls $path/kaggle_3m"
   ]
  },
  {
   "cell_type": "markdown",
   "metadata": {},
   "source": [
    "^ Each directory belongs to a patient."
   ]
  },
  {
   "cell_type": "code",
   "execution_count": 7,
   "metadata": {},
   "outputs": [
    {
     "name": "stdout",
     "output_type": "stream",
     "text": [
      "TCGA_CS_4941_19960909_10_mask.tif  TCGA_CS_4941_19960909_20.tif\r\n",
      "TCGA_CS_4941_19960909_10.tif\t   TCGA_CS_4941_19960909_21_mask.tif\r\n",
      "TCGA_CS_4941_19960909_11_mask.tif  TCGA_CS_4941_19960909_21.tif\r\n",
      "TCGA_CS_4941_19960909_11.tif\t   TCGA_CS_4941_19960909_22_mask.tif\r\n",
      "TCGA_CS_4941_19960909_12_mask.tif  TCGA_CS_4941_19960909_22.tif\r\n",
      "TCGA_CS_4941_19960909_12.tif\t   TCGA_CS_4941_19960909_23_mask.tif\r\n",
      "TCGA_CS_4941_19960909_13_mask.tif  TCGA_CS_4941_19960909_23.tif\r\n",
      "TCGA_CS_4941_19960909_13.tif\t   TCGA_CS_4941_19960909_2_mask.tif\r\n",
      "TCGA_CS_4941_19960909_14_mask.tif  TCGA_CS_4941_19960909_2.tif\r\n",
      "TCGA_CS_4941_19960909_14.tif\t   TCGA_CS_4941_19960909_3_mask.tif\r\n",
      "TCGA_CS_4941_19960909_15_mask.tif  TCGA_CS_4941_19960909_3.tif\r\n",
      "TCGA_CS_4941_19960909_15.tif\t   TCGA_CS_4941_19960909_4_mask.tif\r\n",
      "TCGA_CS_4941_19960909_16_mask.tif  TCGA_CS_4941_19960909_4.tif\r\n",
      "TCGA_CS_4941_19960909_16.tif\t   TCGA_CS_4941_19960909_5_mask.tif\r\n",
      "TCGA_CS_4941_19960909_17_mask.tif  TCGA_CS_4941_19960909_5.tif\r\n",
      "TCGA_CS_4941_19960909_17.tif\t   TCGA_CS_4941_19960909_6_mask.tif\r\n",
      "TCGA_CS_4941_19960909_18_mask.tif  TCGA_CS_4941_19960909_6.tif\r\n",
      "TCGA_CS_4941_19960909_18.tif\t   TCGA_CS_4941_19960909_7_mask.tif\r\n",
      "TCGA_CS_4941_19960909_19_mask.tif  TCGA_CS_4941_19960909_7.tif\r\n",
      "TCGA_CS_4941_19960909_19.tif\t   TCGA_CS_4941_19960909_8_mask.tif\r\n",
      "TCGA_CS_4941_19960909_1_mask.tif   TCGA_CS_4941_19960909_8.tif\r\n",
      "TCGA_CS_4941_19960909_1.tif\t   TCGA_CS_4941_19960909_9_mask.tif\r\n",
      "TCGA_CS_4941_19960909_20_mask.tif  TCGA_CS_4941_19960909_9.tif\r\n"
     ]
    }
   ],
   "source": [
    "!ls $path/kaggle_3m/TCGA_CS_4941_19960909"
   ]
  },
  {
   "cell_type": "markdown",
   "metadata": {},
   "source": [
    "^ This specific patient has 23 MR scan images and their masks in .tif format."
   ]
  },
  {
   "cell_type": "code",
   "execution_count": 8,
   "metadata": {},
   "outputs": [],
   "source": [
    "tt = pd.read_csv(f\"{path}/kaggle_3m/data.csv\")"
   ]
  },
  {
   "cell_type": "code",
   "execution_count": 9,
   "metadata": {},
   "outputs": [
    {
     "data": {
      "text/html": [
       "<div>\n",
       "<style scoped>\n",
       "    .dataframe tbody tr th:only-of-type {\n",
       "        vertical-align: middle;\n",
       "    }\n",
       "\n",
       "    .dataframe tbody tr th {\n",
       "        vertical-align: top;\n",
       "    }\n",
       "\n",
       "    .dataframe thead th {\n",
       "        text-align: right;\n",
       "    }\n",
       "</style>\n",
       "<table border=\"1\" class=\"dataframe\">\n",
       "  <thead>\n",
       "    <tr style=\"text-align: right;\">\n",
       "      <th></th>\n",
       "      <th>Patient</th>\n",
       "      <th>RNASeqCluster</th>\n",
       "      <th>MethylationCluster</th>\n",
       "      <th>miRNACluster</th>\n",
       "      <th>CNCluster</th>\n",
       "      <th>RPPACluster</th>\n",
       "      <th>OncosignCluster</th>\n",
       "      <th>COCCluster</th>\n",
       "      <th>histological_type</th>\n",
       "      <th>neoplasm_histologic_grade</th>\n",
       "      <th>tumor_tissue_site</th>\n",
       "      <th>laterality</th>\n",
       "      <th>tumor_location</th>\n",
       "      <th>gender</th>\n",
       "      <th>age_at_initial_pathologic</th>\n",
       "      <th>race</th>\n",
       "      <th>ethnicity</th>\n",
       "      <th>death01</th>\n",
       "    </tr>\n",
       "  </thead>\n",
       "  <tbody>\n",
       "    <tr>\n",
       "      <th>0</th>\n",
       "      <td>TCGA_CS_4941</td>\n",
       "      <td>2.0</td>\n",
       "      <td>4.0</td>\n",
       "      <td>2</td>\n",
       "      <td>2.0</td>\n",
       "      <td>NaN</td>\n",
       "      <td>3.0</td>\n",
       "      <td>2</td>\n",
       "      <td>1.0</td>\n",
       "      <td>2.0</td>\n",
       "      <td>1.0</td>\n",
       "      <td>3.0</td>\n",
       "      <td>2.0</td>\n",
       "      <td>2.0</td>\n",
       "      <td>67.0</td>\n",
       "      <td>3.0</td>\n",
       "      <td>2.0</td>\n",
       "      <td>1.0</td>\n",
       "    </tr>\n",
       "    <tr>\n",
       "      <th>1</th>\n",
       "      <td>TCGA_CS_4942</td>\n",
       "      <td>1.0</td>\n",
       "      <td>5.0</td>\n",
       "      <td>2</td>\n",
       "      <td>1.0</td>\n",
       "      <td>1.0</td>\n",
       "      <td>2.0</td>\n",
       "      <td>1</td>\n",
       "      <td>1.0</td>\n",
       "      <td>2.0</td>\n",
       "      <td>1.0</td>\n",
       "      <td>3.0</td>\n",
       "      <td>2.0</td>\n",
       "      <td>1.0</td>\n",
       "      <td>44.0</td>\n",
       "      <td>2.0</td>\n",
       "      <td>NaN</td>\n",
       "      <td>1.0</td>\n",
       "    </tr>\n",
       "    <tr>\n",
       "      <th>2</th>\n",
       "      <td>TCGA_CS_4943</td>\n",
       "      <td>1.0</td>\n",
       "      <td>5.0</td>\n",
       "      <td>2</td>\n",
       "      <td>1.0</td>\n",
       "      <td>2.0</td>\n",
       "      <td>2.0</td>\n",
       "      <td>1</td>\n",
       "      <td>1.0</td>\n",
       "      <td>2.0</td>\n",
       "      <td>1.0</td>\n",
       "      <td>1.0</td>\n",
       "      <td>2.0</td>\n",
       "      <td>2.0</td>\n",
       "      <td>37.0</td>\n",
       "      <td>3.0</td>\n",
       "      <td>NaN</td>\n",
       "      <td>0.0</td>\n",
       "    </tr>\n",
       "    <tr>\n",
       "      <th>3</th>\n",
       "      <td>TCGA_CS_4944</td>\n",
       "      <td>NaN</td>\n",
       "      <td>5.0</td>\n",
       "      <td>2</td>\n",
       "      <td>1.0</td>\n",
       "      <td>2.0</td>\n",
       "      <td>1.0</td>\n",
       "      <td>1</td>\n",
       "      <td>1.0</td>\n",
       "      <td>1.0</td>\n",
       "      <td>1.0</td>\n",
       "      <td>3.0</td>\n",
       "      <td>6.0</td>\n",
       "      <td>2.0</td>\n",
       "      <td>50.0</td>\n",
       "      <td>3.0</td>\n",
       "      <td>NaN</td>\n",
       "      <td>0.0</td>\n",
       "    </tr>\n",
       "    <tr>\n",
       "      <th>4</th>\n",
       "      <td>TCGA_CS_5393</td>\n",
       "      <td>4.0</td>\n",
       "      <td>5.0</td>\n",
       "      <td>2</td>\n",
       "      <td>1.0</td>\n",
       "      <td>2.0</td>\n",
       "      <td>3.0</td>\n",
       "      <td>1</td>\n",
       "      <td>1.0</td>\n",
       "      <td>2.0</td>\n",
       "      <td>1.0</td>\n",
       "      <td>1.0</td>\n",
       "      <td>6.0</td>\n",
       "      <td>2.0</td>\n",
       "      <td>39.0</td>\n",
       "      <td>3.0</td>\n",
       "      <td>NaN</td>\n",
       "      <td>0.0</td>\n",
       "    </tr>\n",
       "  </tbody>\n",
       "</table>\n",
       "</div>"
      ],
      "text/plain": [
       "        Patient  RNASeqCluster  MethylationCluster  miRNACluster  CNCluster  \\\n",
       "0  TCGA_CS_4941            2.0                 4.0             2        2.0   \n",
       "1  TCGA_CS_4942            1.0                 5.0             2        1.0   \n",
       "2  TCGA_CS_4943            1.0                 5.0             2        1.0   \n",
       "3  TCGA_CS_4944            NaN                 5.0             2        1.0   \n",
       "4  TCGA_CS_5393            4.0                 5.0             2        1.0   \n",
       "\n",
       "   RPPACluster  OncosignCluster  COCCluster  histological_type  \\\n",
       "0          NaN              3.0           2                1.0   \n",
       "1          1.0              2.0           1                1.0   \n",
       "2          2.0              2.0           1                1.0   \n",
       "3          2.0              1.0           1                1.0   \n",
       "4          2.0              3.0           1                1.0   \n",
       "\n",
       "   neoplasm_histologic_grade  tumor_tissue_site  laterality  tumor_location  \\\n",
       "0                        2.0                1.0         3.0             2.0   \n",
       "1                        2.0                1.0         3.0             2.0   \n",
       "2                        2.0                1.0         1.0             2.0   \n",
       "3                        1.0                1.0         3.0             6.0   \n",
       "4                        2.0                1.0         1.0             6.0   \n",
       "\n",
       "   gender  age_at_initial_pathologic  race  ethnicity  death01  \n",
       "0     2.0                       67.0   3.0        2.0      1.0  \n",
       "1     1.0                       44.0   2.0        NaN      1.0  \n",
       "2     2.0                       37.0   3.0        NaN      0.0  \n",
       "3     2.0                       50.0   3.0        NaN      0.0  \n",
       "4     2.0                       39.0   3.0        NaN      0.0  "
      ]
     },
     "execution_count": 9,
     "metadata": {},
     "output_type": "execute_result"
    }
   ],
   "source": [
    "tt.head()"
   ]
  },
  {
   "cell_type": "code",
   "execution_count": 10,
   "metadata": {},
   "outputs": [],
   "source": [
    "os.chdir(path)"
   ]
  },
  {
   "cell_type": "markdown",
   "metadata": {},
   "source": [
    "Since we can not specify a pattern inside the `get_image_files` function, we will use `glob.glob` with pattern to get non-mask files and then convert them into a list of Path objects"
   ]
  },
  {
   "cell_type": "code",
   "execution_count": 11,
   "metadata": {},
   "outputs": [],
   "source": [
    "fnames = glob.glob(\"/home/ubuntu/datasets/brain-MRI-segmentation/lgg-mri-segmentation/kaggle_3m/**/*_[0-9]*[0-9].tif\", recursive=True)"
   ]
  },
  {
   "cell_type": "code",
   "execution_count": 12,
   "metadata": {},
   "outputs": [
    {
     "data": {
      "text/plain": [
       "3929"
      ]
     },
     "execution_count": 12,
     "metadata": {},
     "output_type": "execute_result"
    }
   ],
   "source": [
    "len(fnames)"
   ]
  },
  {
   "cell_type": "code",
   "execution_count": 13,
   "metadata": {},
   "outputs": [
    {
     "data": {
      "text/plain": [
       "['/home/ubuntu/datasets/brain-MRI-segmentation/lgg-mri-segmentation/kaggle_3m/TCGA_DU_5874_19950510/TCGA_DU_5874_19950510_33.tif',\n",
       " '/home/ubuntu/datasets/brain-MRI-segmentation/lgg-mri-segmentation/kaggle_3m/TCGA_DU_5874_19950510/TCGA_DU_5874_19950510_26.tif',\n",
       " '/home/ubuntu/datasets/brain-MRI-segmentation/lgg-mri-segmentation/kaggle_3m/TCGA_DU_5874_19950510/TCGA_DU_5874_19950510_9.tif',\n",
       " '/home/ubuntu/datasets/brain-MRI-segmentation/lgg-mri-segmentation/kaggle_3m/TCGA_DU_5874_19950510/TCGA_DU_5874_19950510_22.tif',\n",
       " '/home/ubuntu/datasets/brain-MRI-segmentation/lgg-mri-segmentation/kaggle_3m/TCGA_DU_5874_19950510/TCGA_DU_5874_19950510_38.tif']"
      ]
     },
     "execution_count": 13,
     "metadata": {},
     "output_type": "execute_result"
    }
   ],
   "source": [
    "fnames[:5]"
   ]
  },
  {
   "cell_type": "code",
   "execution_count": 14,
   "metadata": {},
   "outputs": [],
   "source": [
    "# apply Path to every item in list\n",
    "f_names = [Path(item) for item in fnames]"
   ]
  },
  {
   "cell_type": "code",
   "execution_count": 15,
   "metadata": {},
   "outputs": [
    {
     "data": {
      "text/plain": [
       "[Path('/home/ubuntu/datasets/brain-MRI-segmentation/lgg-mri-segmentation/kaggle_3m/TCGA_DU_5874_19950510/TCGA_DU_5874_19950510_33.tif'),\n",
       " Path('/home/ubuntu/datasets/brain-MRI-segmentation/lgg-mri-segmentation/kaggle_3m/TCGA_DU_5874_19950510/TCGA_DU_5874_19950510_26.tif'),\n",
       " Path('/home/ubuntu/datasets/brain-MRI-segmentation/lgg-mri-segmentation/kaggle_3m/TCGA_DU_5874_19950510/TCGA_DU_5874_19950510_9.tif'),\n",
       " Path('/home/ubuntu/datasets/brain-MRI-segmentation/lgg-mri-segmentation/kaggle_3m/TCGA_DU_5874_19950510/TCGA_DU_5874_19950510_22.tif'),\n",
       " Path('/home/ubuntu/datasets/brain-MRI-segmentation/lgg-mri-segmentation/kaggle_3m/TCGA_DU_5874_19950510/TCGA_DU_5874_19950510_38.tif')]"
      ]
     },
     "execution_count": 15,
     "metadata": {},
     "output_type": "execute_result"
    }
   ],
   "source": [
    "f_names[:5]"
   ]
  },
  {
   "cell_type": "code",
   "execution_count": 16,
   "metadata": {},
   "outputs": [
    {
     "data": {
      "text/plain": [
       "(3929, 3929)"
      ]
     },
     "execution_count": 16,
     "metadata": {},
     "output_type": "execute_result"
    }
   ],
   "source": [
    "len(fnames), len(f_names)"
   ]
  },
  {
   "cell_type": "code",
   "execution_count": 17,
   "metadata": {},
   "outputs": [
    {
     "data": {
      "text/plain": [
       "('TCGA_DU_5874_19950510_22', '.tif')"
      ]
     },
     "execution_count": 17,
     "metadata": {},
     "output_type": "execute_result"
    }
   ],
   "source": [
    "o = f_names[3]\n",
    "o.stem, o.suffix"
   ]
  },
  {
   "cell_type": "code",
   "execution_count": 18,
   "metadata": {},
   "outputs": [],
   "source": [
    "#get_msk = lambda o: str(Path(o).parent/f'{Path(o).stem}_mask{Path(o).suffix}')  # would work with fnames\n",
    "get_msk = lambda o: o.parent/f'{o.stem}_mask{o.suffix}'"
   ]
  },
  {
   "cell_type": "code",
   "execution_count": 19,
   "metadata": {},
   "outputs": [
    {
     "data": {
      "text/plain": [
       "('/home/ubuntu/datasets/brain-MRI-segmentation/lgg-mri-segmentation/kaggle_3m/TCGA_DU_5874_19950510/TCGA_DU_5874_19950510_22.tif',\n",
       " Path('/home/ubuntu/datasets/brain-MRI-segmentation/lgg-mri-segmentation/kaggle_3m/TCGA_DU_5874_19950510/TCGA_DU_5874_19950510_22_mask.tif'))"
      ]
     },
     "execution_count": 19,
     "metadata": {},
     "output_type": "execute_result"
    }
   ],
   "source": [
    "fnames[3], get_msk(f_names[3])"
   ]
  },
  {
   "cell_type": "code",
   "execution_count": 20,
   "metadata": {
    "colab": {
     "base_uri": "https://localhost:8080/",
     "height": 257
    },
    "colab_type": "code",
    "id": "LkmTQjDtkDTp",
    "outputId": "037c2e81-6656-405a-8454-79759ea44652"
   },
   "outputs": [
    {
     "data": {
      "text/plain": [
       "<matplotlib.axes._subplots.AxesSubplot at 0x7fd38dea8390>"
      ]
     },
     "execution_count": 20,
     "metadata": {},
     "output_type": "execute_result"
    },
    {
     "data": {
      "image/png": "[encoded data removed]",
      "text/plain": [
       "<Figure size 360x360 with 1 Axes>"
      ]
     },
     "metadata": {
      "needs_background": "light"
     },
     "output_type": "display_data"
    }
   ],
   "source": [
    "img_fn = f_names[3]\n",
    "img = PILImage.create(img_fn)\n",
    "img.show(figsize=(5,5))"
   ]
  },
  {
   "cell_type": "markdown",
   "metadata": {
    "colab_type": "text",
    "id": "l_MhdfpekaEG"
   },
   "source": [
    "Now let's grab our y's. They live in the `labels` folder and are denoted by a `_mask`"
   ]
  },
  {
   "cell_type": "code",
   "execution_count": 21,
   "metadata": {},
   "outputs": [
    {
     "data": {
      "text/plain": [
       "Path('/home/ubuntu/datasets/brain-MRI-segmentation/lgg-mri-segmentation/kaggle_3m/TCGA_DU_5874_19950510/TCGA_DU_5874_19950510_22_mask.tif')"
      ]
     },
     "execution_count": 21,
     "metadata": {},
     "output_type": "execute_result"
    }
   ],
   "source": [
    "get_msk(img_fn)"
   ]
  },
  {
   "cell_type": "code",
   "execution_count": 22,
   "metadata": {
    "colab": {
     "base_uri": "https://localhost:8080/",
     "height": 257
    },
    "colab_type": "code",
    "id": "jClkwivQkqQk",
    "outputId": "f28aa5d2-5381-4745-d959-29a9a039c937"
   },
   "outputs": [
    {
     "data": {
      "text/plain": [
       "<matplotlib.axes._subplots.AxesSubplot at 0x7fd38ddd79d0>"
      ]
     },
     "execution_count": 22,
     "metadata": {},
     "output_type": "execute_result"
    },
    {
     "data": {
      "image/png": "[encoded data removed]",
      "text/plain": [
       "<Figure size 360x360 with 1 Axes>"
      ]
     },
     "metadata": {
      "needs_background": "light"
     },
     "output_type": "display_data"
    }
   ],
   "source": [
    "msk = PILMask.create(get_msk(img_fn))\n",
    "msk.show(figsize=(5,5), alpha=0.5)"
   ]
  },
  {
   "cell_type": "markdown",
   "metadata": {
    "colab_type": "text",
    "id": "R9txM7RIk6u9"
   },
   "source": [
    "Now if we look at what our mask actually is, we can see it's a giant array of pixels:"
   ]
  },
  {
   "cell_type": "code",
   "execution_count": 23,
   "metadata": {
    "colab": {
     "base_uri": "https://localhost:8080/",
     "height": 136
    },
    "colab_type": "code",
    "id": "izG96t99kqNw",
    "outputId": "a76a53fe-81ea-4e4b-d1f0-b6dd138209e0"
   },
   "outputs": [
    {
     "data": {
      "text/plain": [
       "tensor([[0, 0, 0,  ..., 0, 0, 0],\n",
       "        [0, 0, 0,  ..., 0, 0, 0],\n",
       "        [0, 0, 0,  ..., 0, 0, 0],\n",
       "        ...,\n",
       "        [0, 0, 0,  ..., 0, 0, 0],\n",
       "        [0, 0, 0,  ..., 0, 0, 0],\n",
       "        [0, 0, 0,  ..., 0, 0, 0]], dtype=torch.uint8)"
      ]
     },
     "execution_count": 23,
     "metadata": {},
     "output_type": "execute_result"
    }
   ],
   "source": [
    "tensor(msk)"
   ]
  },
  {
   "cell_type": "markdown",
   "metadata": {
    "colab_type": "text",
    "id": "kFjrgjYulD0i"
   },
   "source": [
    "Where each one represents a class that we can find in `codes.txt`. Let's make a vocabulary with it"
   ]
  },
  {
   "cell_type": "code",
   "execution_count": 24,
   "metadata": {},
   "outputs": [
    {
     "data": {
      "text/plain": [
       "\"['_Image__transformer', '__array_interface__', '__class__', '__copy__', '__del__', '__delattr__', '__dict__', '__dir__', '__doc__', '__enter__', '__eq__', '__exit__', '__format__', '__ge__', '__getattribute__', '__getstate__', '__gt__', '__hash__', '__init__', '__init_subclass__', '__le__', '__lt__', '__module__', '__ne__', '__new__', '__reduce__', '__reduce_ex__', '__repr__', '__setattr__', '__setstate__', '__signature__', '__sizeof__', '__str__', '__subclasshook__', '__weakref__', '_bypass_type', '_close_exclusive_fp_after_loading', '_copy', '_crop', '_do_crop_pad', '_dump', '_ensure_mutable', '_exif', '_expand', '_new', '_open_args', '_repr_png_', '_show_args', '_size', '_tensor_cls', 'alpha_composite', 'aspect', 'category', 'close', 'convert', 'copy', 'create', 'crop', 'crop_pad', 'draft', 'effect_spread', 'entropy', 'filter', 'flip_lr', 'format', 'format_description', 'frombytes', 'fromstring', 'getbands', 'getbbox', 'getchannel', 'getcolors', 'getdata', 'getexif', 'getextrema', 'getim', 'getpalette', 'getpixel', 'getprojection', 'height', 'histogram', 'im', 'info', 'load', 'mode', 'n_px', 'offset', 'palette', 'paste', 'point', 'putalpha', 'putdata', 'putpalette', 'putpixel', 'pyaccess', 'quantize', 'readonly', 'remap_palette', 'reshape', 'resize', 'resize_max', 'rotate', 'save', 'seek', 'shape', 'show', 'size', 'split', 'tell', 'thumbnail', 'to_bytes_format', 'to_thumb', 'tobitmap', 'tobytes', 'toqimage', 'toqpixmap', 'tostring', 'transform', 'transpose', 'verify', 'width']\""
      ]
     },
     "execution_count": 24,
     "metadata": {},
     "output_type": "execute_result"
    }
   ],
   "source": [
    "str(dir(msk))"
   ]
  },
  {
   "cell_type": "code",
   "execution_count": 25,
   "metadata": {},
   "outputs": [
    {
     "data": {
      "text/plain": [
       "array([  0, 255])"
      ]
     },
     "execution_count": 25,
     "metadata": {},
     "output_type": "execute_result"
    }
   ],
   "source": [
    "np.unique(np.array(msk.getdata()))"
   ]
  },
  {
   "cell_type": "code",
   "execution_count": 26,
   "metadata": {},
   "outputs": [],
   "source": [
    "codes = np.unique(np.array(msk.getdata()))"
   ]
  },
  {
   "cell_type": "markdown",
   "metadata": {
    "colab_type": "text",
    "id": "qW90Xfz1ecd1"
   },
   "source": [
    "We need a split function that will split from our list of valid filenames we grabbed earlier. Let's try making our own."
   ]
  },
  {
   "cell_type": "code",
   "execution_count": 27,
   "metadata": {
    "colab": {},
    "colab_type": "code",
    "id": "nDQD278teWLf"
   },
   "outputs": [],
   "source": [
    "# def FileSplitter(fname):\n",
    "#     \"Split `items` depending on the value of `mask`.\"\n",
    "#     valid = Path(fname).read().split('\\n') \n",
    "#     def _func(x): return x.name in valid\n",
    "#     def _inner(o, **kwargs): return FuncSplitter(_func)(o)\n",
    "#     return _inner"
   ]
  },
  {
   "cell_type": "markdown",
   "metadata": {
    "colab_type": "text",
    "id": "XiKKHP5ketL_"
   },
   "source": [
    "This takes in our filenames, and checks for all of our filenames in all of our items in our validation filenames"
   ]
  },
  {
   "cell_type": "markdown",
   "metadata": {
    "colab_type": "text",
    "id": "DA-D0O-Ild_E"
   },
   "source": [
    "# Transfer Learning between DataSets\n",
    "\n",
    "Jeremy popularized the idea of image resizing:\n",
    "* Train on smaller sized images\n",
    "* Eventually get larger and larger\n",
    "* Transfer Learning loop"
   ]
  },
  {
   "cell_type": "markdown",
   "metadata": {
    "colab_type": "text",
    "id": "7Vy26sHAlry6"
   },
   "source": [
    "This first round we will train at half the image size"
   ]
  },
  {
   "cell_type": "code",
   "execution_count": 28,
   "metadata": {
    "colab": {
     "base_uri": "https://localhost:8080/",
     "height": 34
    },
    "colab_type": "code",
    "id": "KmC5nfi0l8af",
    "outputId": "27f84373-f2dc-420f-a872-3d78de056d6e"
   },
   "outputs": [
    {
     "data": {
      "text/plain": [
       "(256, 256)"
      ]
     },
     "execution_count": 28,
     "metadata": {},
     "output_type": "execute_result"
    }
   ],
   "source": [
    "sz = msk.shape; sz"
   ]
  },
  {
   "cell_type": "code",
   "execution_count": 29,
   "metadata": {
    "colab": {
     "base_uri": "https://localhost:8080/",
     "height": 34
    },
    "colab_type": "code",
    "id": "knhd8Eznlzq9",
    "outputId": "a55f728d-ddf8-48fa-ae13-b938135be3eb"
   },
   "outputs": [
    {
     "data": {
      "text/plain": [
       "(128, 128)"
      ]
     },
     "execution_count": 29,
     "metadata": {},
     "output_type": "execute_result"
    }
   ],
   "source": [
    "half = tuple(int(x/2) for x in sz); half"
   ]
  },
  {
   "cell_type": "code",
   "execution_count": 30,
   "metadata": {},
   "outputs": [],
   "source": [
    "llg = DataBlock(blocks=(ImageBlock, MaskBlock(codes)),\n",
    "                   get_items=f_names,\n",
    "                   splitter=RandomSplitter(0.2),\n",
    "                   get_y=get_msk,\n",
    "                   batch_tfms=[*aug_transforms(size=half), Normalize.from_stats(*imagenet_stats)])"
   ]
  },
  {
   "cell_type": "code",
   "execution_count": 35,
   "metadata": {
    "colab": {},
    "colab_type": "code",
    "id": "aEhOCJ5efzUP"
   },
   "outputs": [
    {
     "ename": "TypeError",
     "evalue": "'list' object is not callable",
     "output_type": "error",
     "traceback": [
      "\u001b[0;31m---------------------------------------------------------------------------\u001b[0m",
      "\u001b[0;31mTypeError\u001b[0m                                 Traceback (most recent call last)",
      "\u001b[0;32m<ipython-input-35-9f320b25389c>\u001b[0m in \u001b[0;36m<module>\u001b[0;34m\u001b[0m\n\u001b[0;32m----> 1\u001b[0;31m \u001b[0mdls\u001b[0m \u001b[0;34m=\u001b[0m \u001b[0mllg\u001b[0m\u001b[0;34m.\u001b[0m\u001b[0mdataloaders\u001b[0m\u001b[0;34m(\u001b[0m\u001b[0msource\u001b[0m\u001b[0;34m=\u001b[0m\u001b[0;34m[\u001b[0m\u001b[0mf_names\u001b[0m\u001b[0;34m]\u001b[0m\u001b[0;34m,\u001b[0m \u001b[0mdo_batch\u001b[0m\u001b[0;34m=\u001b[0m\u001b[0;32mNone\u001b[0m\u001b[0;34m)\u001b[0m\u001b[0;34m\u001b[0m\u001b[0;34m\u001b[0m\u001b[0m\n\u001b[0m",
      "\u001b[0;32m~/codebase/my_github/playground/fastai2/data/block.py\u001b[0m in \u001b[0;36mdataloaders\u001b[0;34m(self, source, path, verbose, **kwargs)\u001b[0m\n\u001b[1;32m     96\u001b[0m \u001b[0;34m\u001b[0m\u001b[0m\n\u001b[1;32m     97\u001b[0m     \u001b[0;32mdef\u001b[0m \u001b[0mdataloaders\u001b[0m\u001b[0;34m(\u001b[0m\u001b[0mself\u001b[0m\u001b[0;34m,\u001b[0m \u001b[0msource\u001b[0m\u001b[0;34m,\u001b[0m \u001b[0mpath\u001b[0m\u001b[0;34m=\u001b[0m\u001b[0;34m'.'\u001b[0m\u001b[0;34m,\u001b[0m \u001b[0mverbose\u001b[0m\u001b[0;34m=\u001b[0m\u001b[0;32mFalse\u001b[0m\u001b[0;34m,\u001b[0m \u001b[0;34m**\u001b[0m\u001b[0mkwargs\u001b[0m\u001b[0;34m)\u001b[0m\u001b[0;34m:\u001b[0m\u001b[0;34m\u001b[0m\u001b[0;34m\u001b[0m\u001b[0m\n\u001b[0;32m---> 98\u001b[0;31m         \u001b[0mdsets\u001b[0m \u001b[0;34m=\u001b[0m \u001b[0mself\u001b[0m\u001b[0;34m.\u001b[0m\u001b[0mdatasets\u001b[0m\u001b[0;34m(\u001b[0m\u001b[0msource\u001b[0m\u001b[0;34m)\u001b[0m\u001b[0;34m\u001b[0m\u001b[0;34m\u001b[0m\u001b[0m\n\u001b[0m\u001b[1;32m     99\u001b[0m         \u001b[0mkwargs\u001b[0m \u001b[0;34m=\u001b[0m \u001b[0;34m{\u001b[0m\u001b[0;34m**\u001b[0m\u001b[0mself\u001b[0m\u001b[0;34m.\u001b[0m\u001b[0mdls_kwargs\u001b[0m\u001b[0;34m,\u001b[0m \u001b[0;34m**\u001b[0m\u001b[0mkwargs\u001b[0m\u001b[0;34m,\u001b[0m \u001b[0;34m'verbose'\u001b[0m\u001b[0;34m:\u001b[0m \u001b[0mverbose\u001b[0m\u001b[0;34m}\u001b[0m\u001b[0;34m\u001b[0m\u001b[0;34m\u001b[0m\u001b[0m\n\u001b[1;32m    100\u001b[0m         \u001b[0;32mreturn\u001b[0m \u001b[0mdsets\u001b[0m\u001b[0;34m.\u001b[0m\u001b[0mdataloaders\u001b[0m\u001b[0;34m(\u001b[0m\u001b[0mpath\u001b[0m\u001b[0;34m=\u001b[0m\u001b[0mpath\u001b[0m\u001b[0;34m,\u001b[0m \u001b[0mafter_item\u001b[0m\u001b[0;34m=\u001b[0m\u001b[0mself\u001b[0m\u001b[0;34m.\u001b[0m\u001b[0mitem_tfms\u001b[0m\u001b[0;34m,\u001b[0m \u001b[0mafter_batch\u001b[0m\u001b[0;34m=\u001b[0m\u001b[0mself\u001b[0m\u001b[0;34m.\u001b[0m\u001b[0mbatch_tfms\u001b[0m\u001b[0;34m,\u001b[0m \u001b[0;34m**\u001b[0m\u001b[0mkwargs\u001b[0m\u001b[0;34m)\u001b[0m\u001b[0;34m\u001b[0m\u001b[0;34m\u001b[0m\u001b[0m\n",
      "\u001b[0;32m~/codebase/my_github/playground/fastai2/data/block.py\u001b[0m in \u001b[0;36mdatasets\u001b[0;34m(self, source, verbose)\u001b[0m\n\u001b[1;32m     90\u001b[0m     \u001b[0;32mdef\u001b[0m \u001b[0mdatasets\u001b[0m\u001b[0;34m(\u001b[0m\u001b[0mself\u001b[0m\u001b[0;34m,\u001b[0m \u001b[0msource\u001b[0m\u001b[0;34m,\u001b[0m \u001b[0mverbose\u001b[0m\u001b[0;34m=\u001b[0m\u001b[0;32mFalse\u001b[0m\u001b[0;34m)\u001b[0m\u001b[0;34m:\u001b[0m\u001b[0;34m\u001b[0m\u001b[0;34m\u001b[0m\u001b[0m\n\u001b[1;32m     91\u001b[0m         \u001b[0mself\u001b[0m\u001b[0;34m.\u001b[0m\u001b[0msource\u001b[0m \u001b[0;34m=\u001b[0m \u001b[0msource\u001b[0m                     \u001b[0;34m;\u001b[0m \u001b[0mpv\u001b[0m\u001b[0;34m(\u001b[0m\u001b[0;34mf\"Collecting items from {source}\"\u001b[0m\u001b[0;34m,\u001b[0m \u001b[0mverbose\u001b[0m\u001b[0;34m)\u001b[0m\u001b[0;34m\u001b[0m\u001b[0;34m\u001b[0m\u001b[0m\n\u001b[0;32m---> 92\u001b[0;31m         \u001b[0mitems\u001b[0m \u001b[0;34m=\u001b[0m \u001b[0;34m(\u001b[0m\u001b[0mself\u001b[0m\u001b[0;34m.\u001b[0m\u001b[0mget_items\u001b[0m \u001b[0;32mor\u001b[0m \u001b[0mnoop\u001b[0m\u001b[0;34m)\u001b[0m\u001b[0;34m(\u001b[0m\u001b[0msource\u001b[0m\u001b[0;34m)\u001b[0m \u001b[0;34m;\u001b[0m \u001b[0mpv\u001b[0m\u001b[0;34m(\u001b[0m\u001b[0;34mf\"Found {len(items)} items\"\u001b[0m\u001b[0;34m,\u001b[0m \u001b[0mverbose\u001b[0m\u001b[0;34m)\u001b[0m\u001b[0;34m\u001b[0m\u001b[0;34m\u001b[0m\u001b[0m\n\u001b[0m\u001b[1;32m     93\u001b[0m         \u001b[0msplits\u001b[0m \u001b[0;34m=\u001b[0m \u001b[0;34m(\u001b[0m\u001b[0mself\u001b[0m\u001b[0;34m.\u001b[0m\u001b[0msplitter\u001b[0m \u001b[0;32mor\u001b[0m \u001b[0mRandomSplitter\u001b[0m\u001b[0;34m(\u001b[0m\u001b[0;34m)\u001b[0m\u001b[0;34m)\u001b[0m\u001b[0;34m(\u001b[0m\u001b[0mitems\u001b[0m\u001b[0;34m)\u001b[0m\u001b[0;34m\u001b[0m\u001b[0;34m\u001b[0m\u001b[0m\n\u001b[1;32m     94\u001b[0m         \u001b[0mpv\u001b[0m\u001b[0;34m(\u001b[0m\u001b[0;34mf\"{len(splits)} datasets of sizes {','.join([str(len(s)) for s in splits])}\"\u001b[0m\u001b[0;34m,\u001b[0m \u001b[0mverbose\u001b[0m\u001b[0;34m)\u001b[0m\u001b[0;34m\u001b[0m\u001b[0;34m\u001b[0m\u001b[0m\n",
      "\u001b[0;31mTypeError\u001b[0m: 'list' object is not callable"
     ]
    }
   ],
   "source": [
    "# dls = llg.dataloaders(f_names, bs=4)\n",
    "dls = llg.dataloaders(source=f_names, do_batch=None)"
   ]
  },
  {
   "cell_type": "code",
   "execution_count": 36,
   "metadata": {},
   "outputs": [
    {
     "data": {
      "text/plain": [
       "[Path('/home/ubuntu/datasets/brain-MRI-segmentation/lgg-mri-segmentation/kaggle_3m/TCGA_DU_5874_19950510/TCGA_DU_5874_19950510_33.tif'),\n",
       " Path('/home/ubuntu/datasets/brain-MRI-segmentation/lgg-mri-segmentation/kaggle_3m/TCGA_DU_5874_19950510/TCGA_DU_5874_19950510_26.tif'),\n",
       " Path('/home/ubuntu/datasets/brain-MRI-segmentation/lgg-mri-segmentation/kaggle_3m/TCGA_DU_5874_19950510/TCGA_DU_5874_19950510_9.tif'),\n",
       " Path('/home/ubuntu/datasets/brain-MRI-segmentation/lgg-mri-segmentation/kaggle_3m/TCGA_DU_5874_19950510/TCGA_DU_5874_19950510_22.tif'),\n",
       " Path('/home/ubuntu/datasets/brain-MRI-segmentation/lgg-mri-segmentation/kaggle_3m/TCGA_DU_5874_19950510/TCGA_DU_5874_19950510_38.tif')]"
      ]
     },
     "execution_count": 36,
     "metadata": {},
     "output_type": "execute_result"
    }
   ],
   "source": [
    "f_names[:5]"
   ]
  },
  {
   "cell_type": "code",
   "execution_count": 37,
   "metadata": {},
   "outputs": [
    {
     "data": {
      "text/plain": [
       "Path('/home/ubuntu/datasets/brain-MRI-segmentation/lgg-mri-segmentation')"
      ]
     },
     "execution_count": 37,
     "metadata": {},
     "output_type": "execute_result"
    }
   ],
   "source": [
    "path"
   ]
  },
  {
   "cell_type": "code",
   "execution_count": 39,
   "metadata": {},
   "outputs": [
    {
     "ename": "TypeError",
     "evalue": "'list' object is not callable",
     "output_type": "error",
     "traceback": [
      "\u001b[0;31m---------------------------------------------------------------------------\u001b[0m",
      "\u001b[0;31mTypeError\u001b[0m                                 Traceback (most recent call last)",
      "\u001b[0;32m<ipython-input-39-df7b57be2d3f>\u001b[0m in \u001b[0;36m<module>\u001b[0;34m\u001b[0m\n\u001b[1;32m      1\u001b[0m \u001b[0;31m# dls = llg.dataloaders(path/'kaggle_3m/**/', bs=4)\u001b[0m\u001b[0;34m\u001b[0m\u001b[0;34m\u001b[0m\u001b[0;34m\u001b[0m\u001b[0m\n\u001b[0;32m----> 2\u001b[0;31m \u001b[0mdls\u001b[0m \u001b[0;34m=\u001b[0m \u001b[0mllg\u001b[0m\u001b[0;34m.\u001b[0m\u001b[0mdataloaders\u001b[0m\u001b[0;34m(\u001b[0m\u001b[0mpath\u001b[0m\u001b[0;34m/\u001b[0m\u001b[0;34m'kaggle_3m/TCGA_DU_*/'\u001b[0m\u001b[0;34m,\u001b[0m \u001b[0mbs\u001b[0m\u001b[0;34m=\u001b[0m\u001b[0;36m4\u001b[0m\u001b[0;34m)\u001b[0m\u001b[0;34m\u001b[0m\u001b[0;34m\u001b[0m\u001b[0m\n\u001b[0m",
      "\u001b[0;32m~/codebase/my_github/playground/fastai2/data/block.py\u001b[0m in \u001b[0;36mdataloaders\u001b[0;34m(self, source, path, verbose, **kwargs)\u001b[0m\n\u001b[1;32m     96\u001b[0m \u001b[0;34m\u001b[0m\u001b[0m\n\u001b[1;32m     97\u001b[0m     \u001b[0;32mdef\u001b[0m \u001b[0mdataloaders\u001b[0m\u001b[0;34m(\u001b[0m\u001b[0mself\u001b[0m\u001b[0;34m,\u001b[0m \u001b[0msource\u001b[0m\u001b[0;34m,\u001b[0m \u001b[0mpath\u001b[0m\u001b[0;34m=\u001b[0m\u001b[0;34m'.'\u001b[0m\u001b[0;34m,\u001b[0m \u001b[0mverbose\u001b[0m\u001b[0;34m=\u001b[0m\u001b[0;32mFalse\u001b[0m\u001b[0;34m,\u001b[0m \u001b[0;34m**\u001b[0m\u001b[0mkwargs\u001b[0m\u001b[0;34m)\u001b[0m\u001b[0;34m:\u001b[0m\u001b[0;34m\u001b[0m\u001b[0;34m\u001b[0m\u001b[0m\n\u001b[0;32m---> 98\u001b[0;31m         \u001b[0mdsets\u001b[0m \u001b[0;34m=\u001b[0m \u001b[0mself\u001b[0m\u001b[0;34m.\u001b[0m\u001b[0mdatasets\u001b[0m\u001b[0;34m(\u001b[0m\u001b[0msource\u001b[0m\u001b[0;34m)\u001b[0m\u001b[0;34m\u001b[0m\u001b[0;34m\u001b[0m\u001b[0m\n\u001b[0m\u001b[1;32m     99\u001b[0m         \u001b[0mkwargs\u001b[0m \u001b[0;34m=\u001b[0m \u001b[0;34m{\u001b[0m\u001b[0;34m**\u001b[0m\u001b[0mself\u001b[0m\u001b[0;34m.\u001b[0m\u001b[0mdls_kwargs\u001b[0m\u001b[0;34m,\u001b[0m \u001b[0;34m**\u001b[0m\u001b[0mkwargs\u001b[0m\u001b[0;34m,\u001b[0m \u001b[0;34m'verbose'\u001b[0m\u001b[0;34m:\u001b[0m \u001b[0mverbose\u001b[0m\u001b[0;34m}\u001b[0m\u001b[0;34m\u001b[0m\u001b[0;34m\u001b[0m\u001b[0m\n\u001b[1;32m    100\u001b[0m         \u001b[0;32mreturn\u001b[0m \u001b[0mdsets\u001b[0m\u001b[0;34m.\u001b[0m\u001b[0mdataloaders\u001b[0m\u001b[0;34m(\u001b[0m\u001b[0mpath\u001b[0m\u001b[0;34m=\u001b[0m\u001b[0mpath\u001b[0m\u001b[0;34m,\u001b[0m \u001b[0mafter_item\u001b[0m\u001b[0;34m=\u001b[0m\u001b[0mself\u001b[0m\u001b[0;34m.\u001b[0m\u001b[0mitem_tfms\u001b[0m\u001b[0;34m,\u001b[0m \u001b[0mafter_batch\u001b[0m\u001b[0;34m=\u001b[0m\u001b[0mself\u001b[0m\u001b[0;34m.\u001b[0m\u001b[0mbatch_tfms\u001b[0m\u001b[0;34m,\u001b[0m \u001b[0;34m**\u001b[0m\u001b[0mkwargs\u001b[0m\u001b[0;34m)\u001b[0m\u001b[0;34m\u001b[0m\u001b[0;34m\u001b[0m\u001b[0m\n",
      "\u001b[0;32m~/codebase/my_github/playground/fastai2/data/block.py\u001b[0m in \u001b[0;36mdatasets\u001b[0;34m(self, source, verbose)\u001b[0m\n\u001b[1;32m     90\u001b[0m     \u001b[0;32mdef\u001b[0m \u001b[0mdatasets\u001b[0m\u001b[0;34m(\u001b[0m\u001b[0mself\u001b[0m\u001b[0;34m,\u001b[0m \u001b[0msource\u001b[0m\u001b[0;34m,\u001b[0m \u001b[0mverbose\u001b[0m\u001b[0;34m=\u001b[0m\u001b[0;32mFalse\u001b[0m\u001b[0;34m)\u001b[0m\u001b[0;34m:\u001b[0m\u001b[0;34m\u001b[0m\u001b[0;34m\u001b[0m\u001b[0m\n\u001b[1;32m     91\u001b[0m         \u001b[0mself\u001b[0m\u001b[0;34m.\u001b[0m\u001b[0msource\u001b[0m \u001b[0;34m=\u001b[0m \u001b[0msource\u001b[0m                     \u001b[0;34m;\u001b[0m \u001b[0mpv\u001b[0m\u001b[0;34m(\u001b[0m\u001b[0;34mf\"Collecting items from {source}\"\u001b[0m\u001b[0;34m,\u001b[0m \u001b[0mverbose\u001b[0m\u001b[0;34m)\u001b[0m\u001b[0;34m\u001b[0m\u001b[0;34m\u001b[0m\u001b[0m\n\u001b[0;32m---> 92\u001b[0;31m         \u001b[0mitems\u001b[0m \u001b[0;34m=\u001b[0m \u001b[0;34m(\u001b[0m\u001b[0mself\u001b[0m\u001b[0;34m.\u001b[0m\u001b[0mget_items\u001b[0m \u001b[0;32mor\u001b[0m \u001b[0mnoop\u001b[0m\u001b[0;34m)\u001b[0m\u001b[0;34m(\u001b[0m\u001b[0msource\u001b[0m\u001b[0;34m)\u001b[0m \u001b[0;34m;\u001b[0m \u001b[0mpv\u001b[0m\u001b[0;34m(\u001b[0m\u001b[0;34mf\"Found {len(items)} items\"\u001b[0m\u001b[0;34m,\u001b[0m \u001b[0mverbose\u001b[0m\u001b[0;34m)\u001b[0m\u001b[0;34m\u001b[0m\u001b[0;34m\u001b[0m\u001b[0m\n\u001b[0m\u001b[1;32m     93\u001b[0m         \u001b[0msplits\u001b[0m \u001b[0;34m=\u001b[0m \u001b[0;34m(\u001b[0m\u001b[0mself\u001b[0m\u001b[0;34m.\u001b[0m\u001b[0msplitter\u001b[0m \u001b[0;32mor\u001b[0m \u001b[0mRandomSplitter\u001b[0m\u001b[0;34m(\u001b[0m\u001b[0;34m)\u001b[0m\u001b[0;34m)\u001b[0m\u001b[0;34m(\u001b[0m\u001b[0mitems\u001b[0m\u001b[0;34m)\u001b[0m\u001b[0;34m\u001b[0m\u001b[0;34m\u001b[0m\u001b[0m\n\u001b[1;32m     94\u001b[0m         \u001b[0mpv\u001b[0m\u001b[0;34m(\u001b[0m\u001b[0;34mf\"{len(splits)} datasets of sizes {','.join([str(len(s)) for s in splits])}\"\u001b[0m\u001b[0;34m,\u001b[0m \u001b[0mverbose\u001b[0m\u001b[0;34m)\u001b[0m\u001b[0;34m\u001b[0m\u001b[0;34m\u001b[0m\u001b[0m\n",
      "\u001b[0;31mTypeError\u001b[0m: 'list' object is not callable"
     ]
    }
   ],
   "source": [
    "# dls = llg.dataloaders(path/'kaggle_3m/**/', bs=4)\n",
    "dls = llg.dataloaders(path/'kaggle_3m/TCGA_DU_*/', bs=4)"
   ]
  },
  {
   "cell_type": "markdown",
   "metadata": {
    "colab_type": "text",
    "id": "Rar0smJwgER9"
   },
   "source": [
    "Let's look at a batch, and look at all the classes between codes 1 and 30 (ignoring `Animal` and `Wall`)"
   ]
  },
  {
   "cell_type": "code",
   "execution_count": 253,
   "metadata": {
    "colab": {
     "base_uri": "https://localhost:8080/",
     "height": 574
    },
    "colab_type": "code",
    "id": "W3oX3UYGf121",
    "outputId": "dbf6c2b4-8a2f-40c7-dd28-fd93ba6888be"
   },
   "outputs": [],
   "source": [
    "dls.show_batch(max_n=4, vmin=1, vmax=30, figsize=(14,10))"
   ]
  },
  {
   "cell_type": "markdown",
   "metadata": {
    "colab_type": "text",
    "id": "pcSJ7tGZgdAR"
   },
   "source": [
    "Lastly let's make our vocabulary a part of our `DataLoaders`, as our loss function needs to deal with the `Void` label"
   ]
  },
  {
   "cell_type": "code",
   "execution_count": 28,
   "metadata": {
    "colab": {},
    "colab_type": "code",
    "id": "dNkpT1vdf_7f"
   },
   "outputs": [],
   "source": [
    "dls.vocab = codes"
   ]
  },
  {
   "cell_type": "markdown",
   "metadata": {
    "colab_type": "text",
    "id": "nKYxV1M1go4j"
   },
   "source": [
    "Now we need a methodology for grabbing that particular code from our output of numbers. Let's make everything into a dictionary"
   ]
  },
  {
   "cell_type": "code",
   "execution_count": 255,
   "metadata": {
    "colab": {},
    "colab_type": "code",
    "id": "62Xijn-Pgmdn"
   },
   "outputs": [],
   "source": [
    "# name2id = {v:k for k,v in enumerate(codes)}"
   ]
  },
  {
   "cell_type": "code",
   "execution_count": 256,
   "metadata": {
    "colab": {
     "base_uri": "https://localhost:8080/",
     "height": 561
    },
    "colab_type": "code",
    "id": "o24Fp1rxgx30",
    "outputId": "4b4a1f0a-190d-4d99-dfad-c7fcaec9ae67"
   },
   "outputs": [],
   "source": [
    "# name2id"
   ]
  },
  {
   "cell_type": "markdown",
   "metadata": {
    "colab_type": "text",
    "id": "8vhFFngAgzh0"
   },
   "source": [
    "Awesome! Let's make an accuracy function"
   ]
  },
  {
   "cell_type": "code",
   "execution_count": 257,
   "metadata": {
    "colab": {},
    "colab_type": "code",
    "id": "TJ67RGXWgyZI"
   },
   "outputs": [],
   "source": [
    "# void_code = name2id['Void']"
   ]
  },
  {
   "cell_type": "markdown",
   "metadata": {
    "colab_type": "text",
    "id": "SCL5yzq_hAvp"
   },
   "source": [
    "For segmentation, we want to squeeze all the outputted values to have it as a matrix of digits for our segmentation mask. From there, we want to match their argmax to the target's mask for each pixel and take the average"
   ]
  },
  {
   "cell_type": "code",
   "execution_count": 247,
   "metadata": {
    "colab": {},
    "colab_type": "code",
    "id": "09M7rRd9g3Cp"
   },
   "outputs": [],
   "source": [
    "def acc_camvid(inp, targ):\n",
    "  targ = targ.squeeze(1)\n",
    "  #mask = targ != void_code\n",
    "  return (inp.argmax(dim=1)[mask]==targ[mask]).float().mean()"
   ]
  },
  {
   "cell_type": "markdown",
   "metadata": {
    "colab_type": "text",
    "id": "PRD9zyUHhUyr"
   },
   "source": [
    "# Model\n",
    "\n",
    "## U-Net\n",
    "\n",
    "![](http://deeplearning.net/tutorial/_images/unet.jpg)"
   ]
  },
  {
   "cell_type": "markdown",
   "metadata": {
    "colab_type": "text",
    "id": "WZKlZfX2iV1Z"
   },
   "source": [
    "U-Net allows us to look at pixel-wise representations of our images through sizing it down and then blowing it bck up into a high resolution image. The first part we call an \"encoder\" and the second a \"decoder\"\n",
    "\n",
    "On the image, the authors of the UNET paper describe the arrows as \"denotions of different operations\""
   ]
  },
  {
   "cell_type": "markdown",
   "metadata": {
    "colab_type": "text",
    "id": "hxQN8K4umtZX"
   },
   "source": [
    "We have a special `unet_learner`. Something new is we can pass in a configuration(`unet_config`) where we can declare a few things!\n",
    "\n",
    "* Blur/blur final: avoid checkerboard artifacts\n",
    "* Self attention: A self-attention layer\n",
    "* y_range: Last activations go through a sigmoid for rescaling\n",
    "* Last cross - Cross-connection with the direct model input\n",
    "* Bottle - Bottlenck or not on that cross\n",
    "* Activation function\n",
    "* Norm type"
   ]
  },
  {
   "cell_type": "markdown",
   "metadata": {
    "colab_type": "text",
    "id": "FS6rc9YDAUh_"
   },
   "source": [
    "Let's make a `unet_learner` that uses some of the new state of the art techniques. Specifically:\n",
    "\n",
    "* Self-attention layers: `self_attention = True`\n",
    "* Mish activation function: `act_cls = Mish`"
   ]
  },
  {
   "cell_type": "code",
   "execution_count": 248,
   "metadata": {
    "colab": {},
    "colab_type": "code",
    "id": "7jBsG3OT_oDR"
   },
   "outputs": [],
   "source": [
    "config = unet_config(self_attention=True, act_cls=Mish)"
   ]
  },
  {
   "cell_type": "markdown",
   "metadata": {
    "colab_type": "text",
    "id": "-Xdo3ljZAtS3"
   },
   "source": [
    "Along with this we will use the `Ranger` activation function"
   ]
  },
  {
   "cell_type": "code",
   "execution_count": 249,
   "metadata": {
    "colab": {},
    "colab_type": "code",
    "id": "JKm2xoF5Av4S"
   },
   "outputs": [],
   "source": [
    "opt = ranger"
   ]
  },
  {
   "cell_type": "code",
   "execution_count": 250,
   "metadata": {
    "colab": {
     "base_uri": "https://localhost:8080/",
     "height": 71
    },
    "colab_type": "code",
    "id": "5LaZJ-cijaAx",
    "outputId": "594c265c-9e57-4d3a-c7d1-a4364bf53822"
   },
   "outputs": [
    {
     "ename": "NameError",
     "evalue": "name 'dls' is not defined",
     "output_type": "error",
     "traceback": [
      "\u001b[0;31m---------------------------------------------------------------------------\u001b[0m",
      "\u001b[0;31mNameError\u001b[0m                                 Traceback (most recent call last)",
      "\u001b[0;32m<ipython-input-250-b1b5dca10efe>\u001b[0m in \u001b[0;36m<module>\u001b[0;34m\u001b[0m\n\u001b[0;32m----> 1\u001b[0;31m learn = unet_learner(dls, resnet34, metrics=acc_camvid, config=config,\n\u001b[0m\u001b[1;32m      2\u001b[0m                      opt_func=opt)\n",
      "\u001b[0;31mNameError\u001b[0m: name 'dls' is not defined"
     ]
    }
   ],
   "source": [
    "learn = unet_learner(dls, resnet34, metrics=acc_camvid, config=config,\n",
    "                     opt_func=opt)"
   ]
  },
  {
   "cell_type": "code",
   "execution_count": 258,
   "metadata": {
    "colab": {
     "base_uri": "https://localhost:8080/",
     "height": 1000
    },
    "colab_type": "code",
    "id": "wbxO_N0Amycc",
    "outputId": "a07f9e20-1b26-405d-c466-60ae882c4d40"
   },
   "outputs": [],
   "source": [
    "# learn.summary()"
   ]
  },
  {
   "cell_type": "markdown",
   "metadata": {
    "colab_type": "text",
    "id": "V18sLJSfnGNS"
   },
   "source": [
    "If we do a `learn.summary` we can see this blow-up trend, and see that our model came in frozen. Let's find a learning rate"
   ]
  },
  {
   "cell_type": "code",
   "execution_count": 259,
   "metadata": {
    "colab": {
     "base_uri": "https://localhost:8080/",
     "height": 283
    },
    "colab_type": "code",
    "id": "Ui6w--Q1mx3i",
    "outputId": "71345d7b-77d0-4a1e-c756-0248b64a92ed"
   },
   "outputs": [],
   "source": [
    "# learn.lr_find()"
   ]
  },
  {
   "cell_type": "code",
   "execution_count": 260,
   "metadata": {
    "colab": {},
    "colab_type": "code",
    "id": "pWffYFrUnL9r"
   },
   "outputs": [],
   "source": [
    "# lr = 1e-3"
   ]
  },
  {
   "cell_type": "markdown",
   "metadata": {
    "colab_type": "text",
    "id": "F5Wu_h4nBd8V"
   },
   "source": [
    "With our new optimizer, we will also want to use a different fit function, called `fit_flat_cos`"
   ]
  },
  {
   "cell_type": "code",
   "execution_count": 261,
   "metadata": {
    "colab": {
     "base_uri": "https://localhost:8080/",
     "height": 359
    },
    "colab_type": "code",
    "id": "puziXDKYBhdv",
    "outputId": "4c46283f-2ed2-4ec6-f8f2-035fba6c0f31"
   },
   "outputs": [],
   "source": [
    "# learn.fit_flat_cos(10, slice(lr))"
   ]
  },
  {
   "cell_type": "code",
   "execution_count": 262,
   "metadata": {
    "colab": {},
    "colab_type": "code",
    "id": "BIxLOPudEnYS"
   },
   "outputs": [],
   "source": [
    "# learn.save('stage-1')\n",
    "# learn.load('stage-1');"
   ]
  },
  {
   "cell_type": "code",
   "execution_count": 263,
   "metadata": {
    "colab": {
     "base_uri": "https://localhost:8080/",
     "height": 400
    },
    "colab_type": "code",
    "id": "7e_iENxGEsTA",
    "outputId": "c4872766-1410-4fcd-ef5d-837d54e4cca9"
   },
   "outputs": [],
   "source": [
    "# learn.show_results(max_n=4, figsize=(12,6))"
   ]
  },
  {
   "cell_type": "markdown",
   "metadata": {
    "colab_type": "text",
    "id": "2ZWPF2BIqUUI"
   },
   "source": [
    "Let's unfreeze the model and decrease our learning rate by 4 (Rule of thumb)"
   ]
  },
  {
   "cell_type": "code",
   "execution_count": 264,
   "metadata": {
    "colab": {},
    "colab_type": "code",
    "id": "uLfWrqgGqYd2"
   },
   "outputs": [],
   "source": [
    "# lrs = slice(lr/400, lr/4)"
   ]
  },
  {
   "cell_type": "code",
   "execution_count": 265,
   "metadata": {
    "colab": {
     "base_uri": "https://localhost:8080/",
     "height": 34
    },
    "colab_type": "code",
    "id": "lN3-cG4GqaaQ",
    "outputId": "c751b565-54a4-4111-c6eb-431f3683e4a0"
   },
   "outputs": [],
   "source": [
    "# lr, lrs"
   ]
  },
  {
   "cell_type": "code",
   "execution_count": 266,
   "metadata": {
    "colab": {},
    "colab_type": "code",
    "id": "TD0ccgRwqSl_"
   },
   "outputs": [],
   "source": [
    "# learn.unfreeze()"
   ]
  },
  {
   "cell_type": "markdown",
   "metadata": {
    "colab_type": "text",
    "id": "N_rfiIm1qiP7"
   },
   "source": [
    "And train for a bit more"
   ]
  },
  {
   "cell_type": "code",
   "execution_count": 267,
   "metadata": {
    "colab": {
     "base_uri": "https://localhost:8080/",
     "height": 421
    },
    "colab_type": "code",
    "id": "PFkcyESVqdHF",
    "outputId": "4d7d0eb3-584d-4c78-f055-9a21603dd0b7"
   },
   "outputs": [],
   "source": [
    "# learn.fit_flat_cos(12, lrs)"
   ]
  },
  {
   "cell_type": "markdown",
   "metadata": {
    "colab_type": "text",
    "id": "sDLBRrqSqGMd"
   },
   "source": [
    "Now let's save that model away"
   ]
  },
  {
   "cell_type": "code",
   "execution_count": 268,
   "metadata": {
    "colab": {},
    "colab_type": "code",
    "id": "TOB0R2gEnmg9"
   },
   "outputs": [],
   "source": [
    "# learn.save('stage_2')"
   ]
  },
  {
   "cell_type": "markdown",
   "metadata": {
    "colab_type": "text",
    "id": "nAEwArrCqP05"
   },
   "source": [
    "And look at a few results"
   ]
  },
  {
   "cell_type": "code",
   "execution_count": 269,
   "metadata": {
    "colab": {
     "base_uri": "https://localhost:8080/",
     "height": 543
    },
    "colab_type": "code",
    "id": "HewOP9kbrh4o",
    "outputId": "a387b916-8bf5-4b6c-824a-5258abc93901"
   },
   "outputs": [],
   "source": [
    "# learn.show_results(max_n=4, figsize=(18,8))"
   ]
  },
  {
   "cell_type": "markdown",
   "metadata": {
    "colab_type": "text",
    "id": "bToVsmF9JxjY"
   },
   "source": [
    "# Inference\n",
    "\n",
    "Let's take a look at how to do inference with `test_dl`"
   ]
  },
  {
   "cell_type": "markdown",
   "metadata": {
    "colab_type": "text",
    "id": "wHXgWbxaJ5Kp"
   },
   "source": [
    "Let's do the first five pictures"
   ]
  },
  {
   "cell_type": "code",
   "execution_count": 48,
   "metadata": {
    "colab": {},
    "colab_type": "code",
    "id": "Au4lt2rWJ0Sn"
   },
   "outputs": [],
   "source": [
    "# compared to pred, this offers batch input for inference\n",
    "# dl = learn.dls.test_dl(fnames[:5])"
   ]
  },
  {
   "cell_type": "code",
   "execution_count": 273,
   "metadata": {
    "colab": {
     "base_uri": "https://localhost:8080/",
     "height": 505
    },
    "colab_type": "code",
    "id": "wbKbRwPsJ37-",
    "outputId": "084daecc-5f7c-4965-96e0-2c020037ac22"
   },
   "outputs": [],
   "source": [
    "# dl.show_batch()"
   ]
  },
  {
   "cell_type": "code",
   "execution_count": 50,
   "metadata": {
    "colab": {
     "base_uri": "https://localhost:8080/",
     "height": 17
    },
    "colab_type": "code",
    "id": "XpfFYS7wJ6Wf",
    "outputId": "e1cc236b-eb7b-4110-ec83-6b3fd1b4e2c2"
   },
   "outputs": [
    {
     "data": {
      "text/html": [],
      "text/plain": [
       "<IPython.core.display.HTML object>"
      ]
     },
     "metadata": {},
     "output_type": "display_data"
    }
   ],
   "source": [
    "# preds = learn.get_preds(dl=dl)"
   ]
  },
  {
   "cell_type": "code",
   "execution_count": 51,
   "metadata": {
    "colab": {
     "base_uri": "https://localhost:8080/",
     "height": 34
    },
    "colab_type": "code",
    "id": "QvnOrlMLJ8YQ",
    "outputId": "3a36adf4-1e6f-42c6-ae6e-4da38da414ba"
   },
   "outputs": [
    {
     "data": {
      "text/plain": [
       "torch.Size([5, 32, 360, 480])"
      ]
     },
     "execution_count": 51,
     "metadata": {},
     "output_type": "execute_result"
    }
   ],
   "source": [
    "# preds[0].shape"
   ]
  },
  {
   "cell_type": "markdown",
   "metadata": {
    "colab_type": "text",
    "id": "ybouQTeTJ-qI"
   },
   "source": [
    "Alright so we have a 5x32x360x480"
   ]
  },
  {
   "cell_type": "code",
   "execution_count": 52,
   "metadata": {
    "colab": {
     "base_uri": "https://localhost:8080/",
     "height": 34
    },
    "colab_type": "code",
    "id": "vcR0dUUqKCmQ",
    "outputId": "175c7056-1ee4-4026-9732-4fde045534be"
   },
   "outputs": [
    {
     "data": {
      "text/plain": [
       "32"
      ]
     },
     "execution_count": 52,
     "metadata": {},
     "output_type": "execute_result"
    }
   ],
   "source": [
    "# len(codes)"
   ]
  },
  {
   "cell_type": "markdown",
   "metadata": {
    "colab_type": "text",
    "id": "AdJ-P2TNKTyA"
   },
   "source": [
    "What does this mean? We had five images, so each one is one of our five images in our batch. Let's look at the first"
   ]
  },
  {
   "cell_type": "code",
   "execution_count": 53,
   "metadata": {
    "colab": {},
    "colab_type": "code",
    "id": "dTKiXuH_KaO5"
   },
   "outputs": [],
   "source": [
    "pred_1 = preds[0][0]"
   ]
  },
  {
   "cell_type": "code",
   "execution_count": 54,
   "metadata": {
    "colab": {
     "base_uri": "https://localhost:8080/",
     "height": 34
    },
    "colab_type": "code",
    "id": "jhqwIqi8KeRY",
    "outputId": "a02f4096-031c-433e-c94a-1c3bacbc145b"
   },
   "outputs": [
    {
     "data": {
      "text/plain": [
       "torch.Size([32, 360, 480])"
      ]
     },
     "execution_count": 54,
     "metadata": {},
     "output_type": "execute_result"
    }
   ],
   "source": [
    "pred_1.shape"
   ]
  },
  {
   "cell_type": "markdown",
   "metadata": {
    "colab_type": "text",
    "id": "Xn6GX86HKnfv"
   },
   "source": [
    "Now let's take the argmax of our values"
   ]
  },
  {
   "cell_type": "code",
   "execution_count": 55,
   "metadata": {
    "colab": {},
    "colab_type": "code",
    "id": "M3pG0W5gKiE5"
   },
   "outputs": [],
   "source": [
    "# across all 32 categories, lets select index of max values\n",
    "pred_arx = pred_1.argmax(dim=0)"
   ]
  },
  {
   "cell_type": "code",
   "execution_count": 56,
   "metadata": {},
   "outputs": [
    {
     "data": {
      "text/plain": [
       "torch.Size([360, 480])"
      ]
     },
     "execution_count": 56,
     "metadata": {},
     "output_type": "execute_result"
    }
   ],
   "source": [
    "pred_arx.shape"
   ]
  },
  {
   "cell_type": "markdown",
   "metadata": {
    "colab_type": "text",
    "id": "w2V20SvBKpdK"
   },
   "source": [
    "And look at it"
   ]
  },
  {
   "cell_type": "code",
   "execution_count": 270,
   "metadata": {
    "colab": {
     "base_uri": "https://localhost:8080/",
     "height": 286
    },
    "colab_type": "code",
    "id": "Qkv_XB7IKkKC",
    "outputId": "45d1be05-f442-49db-8d49-f888945265c9"
   },
   "outputs": [],
   "source": [
    "# plt.imshow(pred_arx)"
   ]
  },
  {
   "cell_type": "markdown",
   "metadata": {
    "colab_type": "text",
    "id": "aZdOSU17KGiY"
   },
   "source": [
    "What do we do from here? We need to save it away. We can do this one of two ways, as a numpy array to image, and as a tensor (to say use later rawly)"
   ]
  },
  {
   "cell_type": "code",
   "execution_count": 58,
   "metadata": {
    "colab": {},
    "colab_type": "code",
    "id": "iMfyb2I5Lk78"
   },
   "outputs": [],
   "source": [
    "pred_arx = pred_arx.numpy()"
   ]
  },
  {
   "cell_type": "code",
   "execution_count": 59,
   "metadata": {
    "colab": {},
    "colab_type": "code",
    "id": "o6SFTqIfLc71"
   },
   "outputs": [],
   "source": [
    "rescaled = (255.0 / pred_arx.max() * (pred_arx - pred_arx.min())).astype(np.uint8)"
   ]
  },
  {
   "cell_type": "code",
   "execution_count": 60,
   "metadata": {
    "colab": {},
    "colab_type": "code",
    "id": "bLQp7N5dLAvy"
   },
   "outputs": [],
   "source": [
    "im = Image.fromarray(rescaled)"
   ]
  },
  {
   "cell_type": "code",
   "execution_count": 271,
   "metadata": {
    "colab": {
     "base_uri": "https://localhost:8080/",
     "height": 377
    },
    "colab_type": "code",
    "id": "2qBXOdmkMNq3",
    "outputId": "0aa3d318-d37e-417d-cab3-5ec0bd0bc722"
   },
   "outputs": [],
   "source": [
    "# im"
   ]
  },
  {
   "cell_type": "code",
   "execution_count": 62,
   "metadata": {
    "colab": {},
    "colab_type": "code",
    "id": "YClkZh9vLpnd"
   },
   "outputs": [],
   "source": [
    "im.save('test.png')"
   ]
  },
  {
   "cell_type": "markdown",
   "metadata": {
    "colab_type": "text",
    "id": "syvvl90tLxXN"
   },
   "source": [
    "Let's make a function to do so for our files"
   ]
  },
  {
   "cell_type": "code",
   "execution_count": 63,
   "metadata": {
    "colab": {},
    "colab_type": "code",
    "id": "Eb0irQcjLzVd"
   },
   "outputs": [],
   "source": [
    "for i, pred in enumerate(preds[0]):\n",
    "  pred_arg = pred.argmax(dim=0).numpy()\n",
    "  rescaled = (255.0 / pred_arg.max() * (pred_arg - pred_arg.min())).astype(np.uint8)\n",
    "  im = Image.fromarray(rescaled)\n",
    "  im.save(f'Image_{i}.png')"
   ]
  },
  {
   "cell_type": "markdown",
   "metadata": {
    "colab_type": "text",
    "id": "lVV-hFGLT471"
   },
   "source": [
    "Now let's save away the raw:"
   ]
  },
  {
   "cell_type": "code",
   "execution_count": 64,
   "metadata": {
    "colab": {},
    "colab_type": "code",
    "id": "XeTRKQTATXge"
   },
   "outputs": [],
   "source": [
    "torch.save(preds[0][0], 'Image_1.pt')"
   ]
  },
  {
   "cell_type": "code",
   "execution_count": 65,
   "metadata": {
    "colab": {},
    "colab_type": "code",
    "id": "wLwkckSVUE9j"
   },
   "outputs": [],
   "source": [
    "pred_1 = torch.load('Image_1.pt')"
   ]
  },
  {
   "cell_type": "code",
   "execution_count": 272,
   "metadata": {
    "colab": {
     "base_uri": "https://localhost:8080/",
     "height": 286
    },
    "colab_type": "code",
    "id": "eoMF_PGrUHpS",
    "outputId": "9da8d75a-264d-4ff1-e5a7-dda48502ba51"
   },
   "outputs": [],
   "source": [
    "# plt.imshow(pred_1.argmax(dim=0))"
   ]
  },
  {
   "cell_type": "markdown",
   "metadata": {
    "colab_type": "text",
    "id": "gfF-SG5MtG7E"
   },
   "source": [
    "# Full Size (Homework)\n",
    "\n",
    "Now let's go full sized. Restart your instance to re-free your memory"
   ]
  },
  {
   "cell_type": "code",
   "execution_count": 1,
   "metadata": {
    "colab": {},
    "colab_type": "code",
    "id": "9J0nYtjIqIML"
   },
   "outputs": [],
   "source": [
    "from fastai2.basics import *\n",
    "from fastai2.vision.all import *\n",
    "from fastai2.callback.all import *"
   ]
  },
  {
   "cell_type": "code",
   "execution_count": 2,
   "metadata": {
    "colab": {},
    "colab_type": "code",
    "id": "V8t0N3LetMnU"
   },
   "outputs": [],
   "source": [
    "path = untar_data(URLs.CAMVID)\n",
    "valid_fnames = (path/'valid.txt').read().split('\\n')\n",
    "get_msk = lambda o: path/'labels'/f'{o.stem}_P{o.suffix}'\n",
    "codes = np.loadtxt(path/'codes.txt', dtype=str); codes\n",
    "\n",
    "def ListSplitter(items):\n",
    "  def _inner(it):\n",
    "    val_mask = tensor([o.name in items for o in it])\n",
    "    return [~val_mask, val_mask]\n",
    "  return _inner"
   ]
  },
  {
   "cell_type": "code",
   "execution_count": 3,
   "metadata": {
    "colab": {},
    "colab_type": "code",
    "id": "aYJzrY6cuipt"
   },
   "outputs": [],
   "source": [
    "name2id = {v:k for k,v in enumerate(codes)}\n",
    "void_code = name2id['Void']\n",
    "\n",
    "def acc_camvid(inp, targ):\n",
    "  targ = targ.squeeze(1)\n",
    "  mask = targ != void_code\n",
    "  return (inp.argmax(dim=1)[mask]==targ[mask]).float().mean()"
   ]
  },
  {
   "cell_type": "markdown",
   "metadata": {
    "colab_type": "text",
    "id": "AW6QPccMuPpq"
   },
   "source": [
    "And re-make our dataloaders. But this time we want our size to be the full size"
   ]
  },
  {
   "cell_type": "code",
   "execution_count": 4,
   "metadata": {},
   "outputs": [],
   "source": [
    "sz = (720, 960)"
   ]
  },
  {
   "cell_type": "code",
   "execution_count": 5,
   "metadata": {
    "colab": {},
    "colab_type": "code",
    "id": "jrUc9ijnuLqy"
   },
   "outputs": [],
   "source": [
    "camvid = DataBlock(blocks=(ImageBlock, MaskBlock(codes)),\n",
    "                   get_items=get_image_files,\n",
    "                   splitter=ListSplitter(valid_fnames),\n",
    "                   get_y=get_msk,\n",
    "                   batch_tfms=[*aug_transforms(size=sz), Normalize.from_stats(*imagenet_stats)])"
   ]
  },
  {
   "cell_type": "markdown",
   "metadata": {
    "colab_type": "text",
    "id": "ykH5kj63vPPx"
   },
   "source": [
    "We'll also want to lower our batch size to not run out of memory"
   ]
  },
  {
   "cell_type": "code",
   "execution_count": 6,
   "metadata": {
    "colab": {},
    "colab_type": "code",
    "id": "HujQLgr5uDT3"
   },
   "outputs": [],
   "source": [
    "dls = camvid.dataloaders(path/\"images\", bs=1)"
   ]
  },
  {
   "cell_type": "markdown",
   "metadata": {
    "colab_type": "text",
    "id": "RjQ5xG0SuVoc"
   },
   "source": [
    "Let's assign our vocab, make our learner, and load our weights"
   ]
  },
  {
   "cell_type": "code",
   "execution_count": 7,
   "metadata": {
    "colab": {},
    "colab_type": "code",
    "id": "uwmP-To-H8f9"
   },
   "outputs": [],
   "source": [
    "config = unet_config(self_attention=True, act_cls=Mish)\n",
    "opt = ranger"
   ]
  },
  {
   "cell_type": "code",
   "execution_count": 9,
   "metadata": {
    "colab": {},
    "colab_type": "code",
    "id": "6hpyjB-xuIYa"
   },
   "outputs": [],
   "source": [
    "dls.vocab = codes\n",
    "learn = unet_learner(dls, resnet34, metrics=acc_camvid, config=config,\n",
    "                     opt_func=opt)\n",
    "learn.load('stage_2');"
   ]
  },
  {
   "cell_type": "markdown",
   "metadata": {
    "colab_type": "text",
    "id": "TnDcQh_PurtG"
   },
   "source": [
    "And now let's find our learning rate and train!"
   ]
  },
  {
   "cell_type": "code",
   "execution_count": 282,
   "metadata": {
    "colab": {
     "base_uri": "https://localhost:8080/",
     "height": 283
    },
    "colab_type": "code",
    "id": "0KPohk1Lupea",
    "outputId": "292c7682-881a-4179-b371-6e197a3f98c9"
   },
   "outputs": [],
   "source": [
    "# learn.lr_find()"
   ]
  },
  {
   "cell_type": "code",
   "execution_count": 281,
   "metadata": {
    "colab": {},
    "colab_type": "code",
    "id": "DCmUyZ2xu8Hr"
   },
   "outputs": [],
   "source": [
    "# lr = 1e-3"
   ]
  },
  {
   "cell_type": "code",
   "execution_count": 280,
   "metadata": {
    "colab": {
     "base_uri": "https://localhost:8080/",
     "height": 359
    },
    "colab_type": "code",
    "id": "tH5LhHdnvW6p",
    "outputId": "3bce581c-37f0-43b5-87d9-37110d269e80"
   },
   "outputs": [],
   "source": [
    "# learn.fit_flat_cos(10, slice(lr))"
   ]
  },
  {
   "cell_type": "code",
   "execution_count": 279,
   "metadata": {
    "colab": {},
    "colab_type": "code",
    "id": "T3XQt1m6viXo"
   },
   "outputs": [],
   "source": [
    "# learn.save('full_1')"
   ]
  },
  {
   "cell_type": "code",
   "execution_count": 278,
   "metadata": {
    "colab": {},
    "colab_type": "code",
    "id": "vtEc3KbnUs-B"
   },
   "outputs": [],
   "source": [
    "# learn.unfreeze()"
   ]
  },
  {
   "cell_type": "code",
   "execution_count": 277,
   "metadata": {
    "colab": {
     "base_uri": "https://localhost:8080/",
     "height": 34
    },
    "colab_type": "code",
    "id": "OG-Wrhr0UxoK",
    "outputId": "0f7b2306-06a3-4273-ac45-91efacca7883"
   },
   "outputs": [],
   "source": [
    "# lrs = slice(1e-6,lr/10); lrs"
   ]
  },
  {
   "cell_type": "code",
   "execution_count": 276,
   "metadata": {
    "colab": {
     "base_uri": "https://localhost:8080/",
     "height": 359
    },
    "colab_type": "code",
    "id": "0SP8nNGBUuU4",
    "outputId": "2ab80543-0d55-4fc5-cb60-8bf2fe82b789"
   },
   "outputs": [],
   "source": [
    "# learn.fit_flat_cos(10, lrs)"
   ]
  },
  {
   "cell_type": "code",
   "execution_count": 274,
   "metadata": {
    "colab": {
     "base_uri": "https://localhost:8080/",
     "height": 393
    },
    "colab_type": "code",
    "id": "ahDbblXGVB4T",
    "outputId": "49f5f72f-6be7-43d0-87bc-67b519f4329b"
   },
   "outputs": [],
   "source": [
    "# learn.show_results(max_n=4, figsize=(18,8))"
   ]
  },
  {
   "cell_type": "code",
   "execution_count": 275,
   "metadata": {
    "colab": {},
    "colab_type": "code",
    "id": "FyaRuSIlU_RU"
   },
   "outputs": [],
   "source": [
    "# learn.save('full_2')"
   ]
  }
 ],
 "metadata": {
  "accelerator": "GPU",
  "colab": {
   "name": "04_Segmentation.ipynb",
   "provenance": [],
   "toc_visible": true
  },
  "kernelspec": {
   "display_name": "Python 3",
   "language": "python",
   "name": "python3"
  },
  "language_info": {
   "codemirror_mode": {
    "name": "ipython",
    "version": 3
   },
   "file_extension": ".py",
   "mimetype": "text/x-python",
   "name": "python",
   "nbconvert_exporter": "python",
   "pygments_lexer": "ipython3",
   "version": "3.7.6"
  }
 },
 "nbformat": 4,
 "nbformat_minor": 1
}
